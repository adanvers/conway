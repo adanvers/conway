{
 "cells": [
  {
   "cell_type": "markdown",
   "metadata": {},
   "source": [
    "### Using the Ising Animation as an Example for Conway"
   ]
  },
  {
   "cell_type": "code",
   "execution_count": 3,
   "metadata": {},
   "outputs": [],
   "source": [
    "import numpy as np\n",
    "import matplotlib.pyplot as plt\n",
    "from PIL import Image\n",
    "from ipywidgets import interact\n",
    "\n",
    "%matplotlib inline"
   ]
  },
  {
   "cell_type": "code",
   "execution_count": 4,
   "metadata": {},
   "outputs": [],
   "source": [
    "class Grid:\n",
    "    \"\"\" The grid world on which Conway's GoL lives \"\"\"\n",
    "    \n",
    "    def __init__(self, height, width, random=False):\n",
    "        self.h = height\n",
    "        self.w = width\n",
    "        if random:\n",
    "            self.state = np.random.randint(0,2, size=(height, width))\n",
    "        else:\n",
    "            self.state = np.zeros((height, width))\n",
    "    \n",
    "    # function for plotting using Image from PIL\n",
    "    def display_grid(self):\n",
    "        return Image.fromarray(np.uint8((self.state) * 255))\n",
    "    \n",
    "    def show_grid(self):\n",
    "        plt.imshow(self.state)\n",
    "        \n",
    "    def activate_unit(self, h, w):\n",
    "        self.state[h,w] = 1\n",
    "    \n",
    "    def get_neighbors(self, height, width):\n",
    "        right = max(0, (width-1))\n",
    "        left = min(self.state.shape[1], (width+1+1))\n",
    "        top = max(0, (height-1))\n",
    "        bottom = min(self.state.shape[0], (height+1+1))\n",
    "        neighbors = self.state[top:bottom, right:left]\n",
    "        return neighbors\n",
    "        \n",
    "    def iter_world(self):\n",
    "        for h in range(self.h):\n",
    "            for w in range(self.w):\n",
    "                neighbors = self.get_neighbors(h, w)\n",
    "                if self.state[h,w] == 0:\n",
    "                    if np.sum(neighbors) == 3:\n",
    "                        self.state[h,w] = 1\n",
    "                elif np.sum(neighbors) not in [2, 3]:\n",
    "                        self.state[h,w] = 0"
   ]
  },
  {
   "cell_type": "code",
   "execution_count": 5,
   "metadata": {},
   "outputs": [],
   "source": [
    "my_grid = Grid(50, 50, random = True)"
   ]
  },
  {
   "cell_type": "code",
   "execution_count": 6,
   "metadata": {},
   "outputs": [
    {
     "data": {
      "image/png": "[encoded data removed]",
      "text/plain": [
       "<Figure size 480x480 with 1 Axes>"
      ]
     },
     "metadata": {
      "needs_background": "light"
     },
     "output_type": "display_data"
    }
   ],
   "source": [
    "plt.figure(figsize=(6,6), dpi=80)\n",
    "my_grid.show_grid()"
   ]
  },
  {
   "cell_type": "code",
   "execution_count": 7,
   "metadata": {},
   "outputs": [],
   "source": [
    "def display_sequence(images):\n",
    "    def _show(frame=(0, len(images)-1)):\n",
    "        return plt.imshow(images[frame] * 255)\n",
    "    return interact(_show)"
   ]
  },
  {
   "cell_type": "code",
   "execution_count": 14,
   "metadata": {},
   "outputs": [],
   "source": [
    "my_grid = Grid(50, 50, random = True)\n",
    "grids = [my_grid.state]\n",
    "for i in range(10000):\n",
    "    my_grid.iter_world()\n",
    "    grids.append(my_grid.state.copy())"
   ]
  },
  {
   "cell_type": "code",
   "execution_count": 15,
   "metadata": {},
   "outputs": [
    {
     "data": {
      "application/vnd.jupyter.widget-view+json": {
       "model_id": "da8dbe04537843938b0db207fe16e7c7",
       "version_major": 2,
       "version_minor": 0
      },
      "text/plain": [
       "interactive(children=(IntSlider(value=5000, description='frame', max=10000), Output()), _dom_classes=('widget-…"
      ]
     },
     "metadata": {},
     "output_type": "display_data"
    }
   ],
   "source": [
    "display_sequence(grids);"
   ]
  },
  {
   "cell_type": "code",
   "execution_count": null,
   "metadata": {},
   "outputs": [],
   "source": []
  }
 ],
 "metadata": {
  "kernelspec": {
   "display_name": "Python 3",
   "language": "python",
   "name": "python3"
  },
  "language_info": {
   "codemirror_mode": {
    "name": "ipython",
    "version": 3
   },
   "file_extension": ".py",
   "mimetype": "text/x-python",
   "name": "python",
   "nbconvert_exporter": "python",
   "pygments_lexer": "ipython3",
   "version": "3.8.3"
  }
 },
 "nbformat": 4,
 "nbformat_minor": 4
}
