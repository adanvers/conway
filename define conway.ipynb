{
 "cells": [
  {
   "cell_type": "markdown",
   "metadata": {},
   "source": [
    "### Notebook for Creating Conway's Game of Life"
   ]
  },
  {
   "cell_type": "code",
   "execution_count": 3,
   "metadata": {},
   "outputs": [],
   "source": [
    "import numpy as np\n",
    "import matplotlib.pyplot as plt\n",
    "\n",
    "%matplotlib inline"
   ]
  },
  {
   "cell_type": "code",
   "execution_count": 4,
   "metadata": {},
   "outputs": [],
   "source": [
    "# Step 1: Create Grid\n",
    "\n",
    "class Grid:\n",
    "    \"\"\" The grid world on which Conway's GoL lives \"\"\"\n",
    "    \n",
    "    def __init__(self, height, width, random=False):\n",
    "        self.h = height\n",
    "        self.w = width\n",
    "        if random:\n",
    "            self.state = np.random.randint(0,2, size=(height, width))\n",
    "        else:\n",
    "            self.state = np.zeros((height, width))\n",
    "        \n",
    "    def show_grid(self):\n",
    "        plt.imshow(self.state)\n",
    "        \n",
    "    def activate_unit(self, h, w):\n",
    "        self.state[h,w] = 1\n",
    "    \n",
    "    def get_neighbors(self, height, width):\n",
    "        right = max(0, (width-1))\n",
    "        left = min(self.state.shape[1], (width+1+1))\n",
    "        top = max(0, (height-1))\n",
    "        bottom = min(self.state.shape[0], (height+1+1))\n",
    "        neighbors = self.state[top:bottom, right:left]\n",
    "        return neighbors\n",
    "        \n",
    "    def iter_world(self):\n",
    "        for h in range(self.h):\n",
    "            for w in range(self.w):\n",
    "                neighbors = self.get_neighbors(h, w)\n",
    "                if self.state[h,w] == 0:\n",
    "                    if np.sum(neighbors) == 3:\n",
    "                        self.state[h,w] = 1\n",
    "                elif np.sum(neighbors) not in [2, 3]:\n",
    "                        self.state[h,w] = 0"
   ]
  },
  {
   "cell_type": "code",
   "execution_count": 5,
   "metadata": {},
   "outputs": [
    {
     "data": {
      "image/png": "[encoded data removed]",
      "text/plain": [
       "<Figure size 432x288 with 1 Axes>"
      ]
     },
     "metadata": {
      "needs_background": "light"
     },
     "output_type": "display_data"
    }
   ],
   "source": [
    "test_grid = Grid(10,10, random=True)\n",
    "test_grid.show_grid()"
   ]
  },
  {
   "cell_type": "code",
   "execution_count": 8,
   "metadata": {},
   "outputs": [
    {
     "data": {
      "image/png": "[encoded data removed]",
      "text/plain": [
       "<Figure size 432x288 with 1 Axes>"
      ]
     },
     "metadata": {
      "needs_background": "light"
     },
     "output_type": "display_data"
    },
    {
     "data": {
      "image/png": "[encoded data removed]",
      "text/plain": [
       "<Figure size 432x288 with 1 Axes>"
      ]
     },
     "metadata": {
      "needs_background": "light"
     },
     "output_type": "display_data"
    },
    {
     "data": {
      "image/png": "[encoded data removed]",
      "text/plain": [
       "<Figure size 432x288 with 1 Axes>"
      ]
     },
     "metadata": {
      "needs_background": "light"
     },
     "output_type": "display_data"
    },
    {
     "data": {
      "image/png": "[encoded data removed]",
      "text/plain": [
       "<Figure size 432x288 with 1 Axes>"
      ]
     },
     "metadata": {
      "needs_background": "light"
     },
     "output_type": "display_data"
    }
   ],
   "source": [
    "for i in range(4):\n",
    "    test_grid.iter_world()\n",
    "    plt.show(test_grid.show_grid())"
   ]
  },
  {
   "cell_type": "code",
   "execution_count": 10,
   "metadata": {},
   "outputs": [
    {
     "data": {
      "image/png": "[encoded data removed]",
      "text/plain": [
       "<Figure size 432x288 with 1 Axes>"
      ]
     },
     "metadata": {
      "needs_background": "light"
     },
     "output_type": "display_data"
    }
   ],
   "source": [
    "test_grid = Grid(height=10,width=10,random=False)\n",
    "test_grid.activate_unit(2,3)\n",
    "test_grid.show_grid()"
   ]
  },
  {
   "cell_type": "code",
   "execution_count": 11,
   "metadata": {},
   "outputs": [
    {
     "data": {
      "image/png": "[encoded data removed]",
      "text/plain": [
       "<Figure size 432x288 with 1 Axes>"
      ]
     },
     "metadata": {
      "needs_background": "light"
     },
     "output_type": "display_data"
    }
   ],
   "source": [
    "test_grid.activate_unit(2,2)\n",
    "test_grid.activate_unit(1,3)\n",
    "test_grid.show_grid()"
   ]
  },
  {
   "cell_type": "code",
   "execution_count": 50,
   "metadata": {},
   "outputs": [
    {
     "data": {
      "image/png": "[encoded data removed]",
      "text/plain": [
       "<Figure size 432x288 with 1 Axes>"
      ]
     },
     "metadata": {
      "needs_background": "light"
     },
     "output_type": "display_data"
    }
   ],
   "source": [
    "test_grid.iter_world()\n",
    "test_grid.show_grid()"
   ]
  }
 ],
 "metadata": {
  "kernelspec": {
   "display_name": "Python 3",
   "language": "python",
   "name": "python3"
  },
  "language_info": {
   "codemirror_mode": {
    "name": "ipython",
    "version": 3
   },
   "file_extension": ".py",
   "mimetype": "text/x-python",
   "name": "python",
   "nbconvert_exporter": "python",
   "pygments_lexer": "ipython3",
   "version": "3.8.3"
  }
 },
 "nbformat": 4,
 "nbformat_minor": 4
}
