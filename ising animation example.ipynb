{
 "cells": [
  {
   "cell_type": "markdown",
   "metadata": {},
   "source": [
    "### Following an Internet Example for an Animated Ising Model\n",
    "http://jakevdp.github.io/blog/2017/12/11/live-coding-cython-ising-model/"
   ]
  },
  {
   "cell_type": "code",
   "execution_count": 4,
   "metadata": {},
   "outputs": [],
   "source": [
    "import numpy as np\n",
    "from PIL import Image"
   ]
  },
  {
   "cell_type": "code",
   "execution_count": 3,
   "metadata": {},
   "outputs": [
    {
     "data": {
      "text/plain": [
       "array([[-1, -1, -1, -1,  1, -1,  1, -1, -1,  1],\n",
       "       [ 1, -1,  1, -1, -1,  1, -1, -1, -1, -1],\n",
       "       [ 1, -1, -1,  1,  1,  1,  1,  1, -1,  1],\n",
       "       [-1, -1, -1,  1,  1,  1,  1, -1,  1, -1],\n",
       "       [-1,  1, -1,  1, -1, -1, -1, -1,  1,  1],\n",
       "       [-1,  1, -1, -1,  1,  1,  1,  1, -1,  1],\n",
       "       [ 1,  1,  1,  1, -1, -1, -1, -1, -1, -1],\n",
       "       [-1, -1, -1,  1, -1, -1,  1,  1, -1, -1],\n",
       "       [-1, -1, -1,  1, -1, -1, -1,  1, -1, -1],\n",
       "       [ 1,  1,  1, -1,  1,  1,  1, -1,  1,  1]])"
      ]
     },
     "execution_count": 3,
     "metadata": {},
     "output_type": "execute_result"
    }
   ],
   "source": [
    "def random_spin_field(N,M):\n",
    "    return np.random.choice([-1,1], size=(N,M))\n",
    "\n",
    "random_spin_field(10,10)"
   ]
  },
  {
   "cell_type": "code",
   "execution_count": 5,
   "metadata": {},
   "outputs": [
    {
     "data": {
      "image/png": "[encoded data removed]",
      "text/plain": [
       "<PIL.Image.Image image mode=L size=200x200 at 0x17E8939B520>"
      ]
     },
     "execution_count": 5,
     "metadata": {},
     "output_type": "execute_result"
    }
   ],
   "source": [
    "def display_spin_field(field):\n",
    "    return Image.fromarray(np.uint8((field + 1) * 0.5 * 255))\n",
    "\n",
    "display_spin_field(random_spin_field(200,200))"
   ]
  },
  {
   "cell_type": "markdown",
   "metadata": {},
   "source": [
    "### Implementing the Ising model"
   ]
  },
  {
   "cell_type": "code",
   "execution_count": 6,
   "metadata": {},
   "outputs": [],
   "source": [
    "def ising_step(field, beta=0.4):\n",
    "    N, M = field.shape\n",
    "    for n_offset in range(2):\n",
    "        for m_offset in range(2):\n",
    "            for n in range(n_offset, N, 2):\n",
    "                for m in range(m_offset, M, 2):\n",
    "                    _ising_update(field, n, m, beta)\n",
    "    return field\n",
    "\n",
    "def _ising_update(field, n, m, beta):\n",
    "    total = 0\n",
    "    N, M = field.shape\n",
    "    for i in range(n-1, n+2):\n",
    "        for j in range(m-1, m+2):\n",
    "            if i == n and j == m:\n",
    "                continue\n",
    "            total += field[i %N, j % M]\n",
    "    dE = 2 * field[n, m] * total\n",
    "    if dE <= 0:\n",
    "        field[n, m] *= -1\n",
    "    elif np.exp(-dE*beta) > np.random.rand():\n",
    "        field[n, m] *= -1"
   ]
  },
  {
   "cell_type": "code",
   "execution_count": 7,
   "metadata": {},
   "outputs": [
    {
     "data": {
      "image/png": "[encoded data removed]",
      "text/plain": [
       "<PIL.Image.Image image mode=L size=200x200 at 0x17E8939B310>"
      ]
     },
     "execution_count": 7,
     "metadata": {},
     "output_type": "execute_result"
    }
   ],
   "source": [
    "display_spin_field(ising_step(random_spin_field(200, 200)))"
   ]
  },
  {
   "cell_type": "markdown",
   "metadata": {},
   "source": [
    "### Animating an Ising Sequence"
   ]
  },
  {
   "cell_type": "code",
   "execution_count": 8,
   "metadata": {},
   "outputs": [],
   "source": [
    "from ipywidgets import interact"
   ]
  },
  {
   "cell_type": "code",
   "execution_count": 9,
   "metadata": {},
   "outputs": [],
   "source": [
    "def display_ising_sequence(images):\n",
    "    def _show(frame=(0, len(images) -1)):\n",
    "        return display_spin_field(images[frame])\n",
    "    return interact(_show)"
   ]
  },
  {
   "cell_type": "code",
   "execution_count": 10,
   "metadata": {},
   "outputs": [
    {
     "data": {
      "application/vnd.jupyter.widget-view+json": {
       "model_id": "b2d34653d47348f8a72e8da39863e227",
       "version_major": 2,
       "version_minor": 0
      },
      "text/plain": [
       "interactive(children=(IntSlider(value=25, description='frame', max=50), Output()), _dom_classes=('widget-inter…"
      ]
     },
     "metadata": {},
     "output_type": "display_data"
    }
   ],
   "source": [
    "images = [random_spin_field(200, 200)]\n",
    "for i in range(50):\n",
    "    images.append(ising_step(images[-1].copy()))\n",
    "\n",
    "display_ising_sequence(images);"
   ]
  },
  {
   "cell_type": "code",
   "execution_count": 15,
   "metadata": {},
   "outputs": [
    {
     "data": {
      "text/plain": [
       "((200, 200), 51)"
      ]
     },
     "execution_count": 15,
     "metadata": {},
     "output_type": "execute_result"
    }
   ],
   "source": [
    "images[0].shape, len(images)"
   ]
  },
  {
   "cell_type": "code",
   "execution_count": null,
   "metadata": {},
   "outputs": [],
   "source": []
  }
 ],
 "metadata": {
  "kernelspec": {
   "display_name": "Python 3",
   "language": "python",
   "name": "python3"
  },
  "language_info": {
   "codemirror_mode": {
    "name": "ipython",
    "version": 3
   },
   "file_extension": ".py",
   "mimetype": "text/x-python",
   "name": "python",
   "nbconvert_exporter": "python",
   "pygments_lexer": "ipython3",
   "version": "3.8.3"
  }
 },
 "nbformat": 4,
 "nbformat_minor": 4
}
